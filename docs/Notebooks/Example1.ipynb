{
 "cells": [
  {
   "cell_type": "markdown",
   "source": [
    "# Example 1: Finding the habitable zone\n",
    "\n",
    "In Section 6 of [Bixel & Apai (2021)](https://ui.adsabs.harvard.edu/abs/2021AJ....161..228B/abstract), we propose that the concept of a \"habitable zone\" could be validated by searching for a region of space where planets with atmospheric water vapor are statistically more frequent.\n",
    "\n",
    "In this example, you will use Bioverse to determine whether a [LUVOIR](https://ui.adsabs.harvard.edu/abs/2019arXiv191206219T/abstract)-like imaging survey could test this hypothesis.\n",
    "\n",
    "## Setup\n",
    "First, we'll import the Bioverse code:"
   ],
   "metadata": {}
  },
  {
   "cell_type": "code",
   "execution_count": 1,
   "source": [
    "# Import numpy\n",
    "import numpy as np\n",
    "\n",
    "# Import the relevant modules\n",
    "from bioverse.survey import ImagingSurvey\n",
    "from bioverse.generator import Generator\n",
    "from bioverse.hypothesis import Hypothesis\n",
    "from bioverse import analysis\n",
    "\n",
    "# Import pyplot (for making plots later) and adjust some of its settings\n",
    "from matplotlib import pyplot as plt\n",
    "%matplotlib inline\n",
    "plt.rcParams['font.size'] = 20."
   ],
   "outputs": [],
   "metadata": {}
  },
  {
   "cell_type": "markdown",
   "source": [
    "For this example, we will use the LUVOIR-like imaging survey and host star catalog."
   ],
   "metadata": {}
  },
  {
   "cell_type": "code",
   "execution_count": 2,
   "source": [
    "generator = Generator('imaging')\n",
    "survey = ImagingSurvey('default')"
   ],
   "outputs": [],
   "metadata": {}
  },
  {
   "cell_type": "markdown",
   "source": [
    "## Injecting the statistical effect\n",
    "\n",
    "The first step is to inject the statistical effect we are searching for into the simulated planet population. Specifically, we will simulate the likelihood that a planet has atmospheric water vapor as follows:"
   ],
   "metadata": {}
  },
  {
   "cell_type": "code",
   "execution_count": 3,
   "source": [
    "def habitable_zone_water(d, f_water_habitable=0.75, f_water_nonhabitable=0.01):\n",
    "    d['has_H2O'] = np.zeros(len(d),dtype=bool)\n",
    "\n",
    "    # Non-habitable planets with atmospheres\n",
    "    m1 = d['R'] > 0.8*d['S']**0.25\n",
    "    d['has_H2O'][m1] = np.random.uniform(0,1,size=m1.sum()) < f_water_nonhabitable\n",
    "\n",
    "    # exo-Earth candidates\n",
    "    m2 = d['EEC']\n",
    "    d['has_H2O'][m2] = np.random.uniform(0,1,size=m2.sum()) < f_water_habitable\n",
    "\n",
    "    return d\n",
    "\n",
    "generator.insert_step(habitable_zone_water)"
   ],
   "outputs": [],
   "metadata": {}
  },
  {
   "cell_type": "markdown",
   "source": [
    "Next, let's make a simulated dataset using this modified Generator object and the imaging Survey. Let's start with a relatively optimistic assumption that 75% of EECs are habitable and only 1% of non-EECs have \"false positive\" water vapor."
   ],
   "metadata": {}
  },
  {
   "cell_type": "code",
   "execution_count": 4,
   "source": [
    "sample, detected, data = survey.quickrun(generator, f_water_habitable=0.75, f_water_nonhabitable=0.01)"
   ],
   "outputs": [],
   "metadata": {}
  },
  {
   "cell_type": "markdown",
   "source": [
    "Let's take a look at the simulated data set by plotting which planets have H2O versus their insolation. You might notice that planets within the habitable zone (approx 0.3 < S < 1.1) are more likely to have water-rich atmospheres."
   ],
   "metadata": {}
  },
  {
   "cell_type": "code",
   "execution_count": 5,
   "source": [
    "x, y = data['a_eff'], data['has_H2O']\n",
    "\n",
    "# Now plot the water-rich/water-poor planets versus a_eff (in log-space)\n",
    "fig, ax = plt.subplots(figsize=(16,2))\n",
    "ax.scatter(x,y)\n",
    "ax.set_xscale('log')\n",
    "ax.set_yticks([0,1])\n",
    "ax.set_yticklabels(['no H$_2$O','has H$_2$O'],fontsize=24)\n",
    "ax.set_xlabel('Semi-major axis (scaled) (AU)',fontsize=24)\n",
    "\n",
    "# Highlight the boundaries of the habitable zone (water-rich planets should be more common here)\n",
    "ax.axvline(0.95,linestyle='dotted',c='black',lw=3)\n",
    "ax.axvline(1.7,linestyle='dotted',c='black',lw=3)\n",
    "\n",
    "plt.show()"
   ],
   "outputs": [
    {
     "output_type": "display_data",
     "data": {
      "image/png": "[encoded data removed]",
      "text/plain": [
       "<Figure size 1152x144 with 1 Axes>"
      ]
     },
     "metadata": {
      "needs_background": "light"
     }
    }
   ],
   "metadata": {}
  },
  {
   "cell_type": "markdown",
   "source": [
    "The effect injected by `habitable_zone_water` is apparent in the dataset. But is this effect of high enough statistical significance to confirm the habitable zone hypothesis?"
   ],
   "metadata": {}
  },
  {
   "cell_type": "markdown",
   "source": [
    "## Defining the hypothesis\n",
    "\n",
    "Next, we'll create a new Hypothesis object representing the hypothesis that planets within one region of space are more likely to have atmospheric water vapor than those outside of it. Since we do not know the planets' sizes, the only independent variable is the distance from the star modulated by the stellar luminosity, called `a_eff` (this is already calculated). Likewise, the dependent variable is the presence or absence of water vapor, called `has_H2O`, which is either 0 or 1. The relationship between these values is parameterized by `a_inner` (the inner edge of the habitable zone in AU), `delta_a` (the width in AU), `f_HZ` (the fraction of HZ planets with H2O), and `df_notHZ` (the fraction of non-HZ planets with H2O *divided by* `f_HZ`). By defining the four parameters in this way, we can easily avoid parameter combinations inconsistent with our hypothesis (such as the fraction of non-HZ planets with H2O being higher than `f_HZ` planets)."
   ],
   "metadata": {}
  },
  {
   "cell_type": "code",
   "execution_count": 6,
   "source": [
    "# Define the hypothesis in functional form\n",
    "def f(theta, X):\n",
    "    a_inner, delta_a, f_HZ, df_notHZ = theta\n",
    "    in_HZ = (X > a_inner) & (X < (a_inner + delta_a))\n",
    "    return in_HZ * f_HZ + (~in_HZ) * f_HZ*df_notHZ\n",
    "\n",
    "# Specify the names of the parameters (theta), features (X), and labels (Y)\n",
    "params = ('a_inner', 'delta_a', 'f_HZ', 'df_notHZ')\n",
    "features = ('a_eff',)\n",
    "labels = ('has_H2O',)"
   ],
   "outputs": [],
   "metadata": {}
  },
  {
   "cell_type": "markdown",
   "source": [
    "In addition, we must consider the prior probability distribution of these parameters. Conservatively, we suppose the inner edge might extend far inward, or be slightly farther from the Sun than Earth, and that the HZ could be very narrow or very wide. Similarly, the fraction of planets with water vapor in the HZ and outside of it could span many orders of magnitude. We therefore choose to impose log-uniform prior distributions on these parameters across the following ranges:\n",
    "\n",
    "0.1 < `a_inner` < 2 AU\n",
    "\n",
    "0.01 < `delta_a` < 10 AU\n",
    "\n",
    "0 < `f_HZ` < 1\n",
    "\n",
    "0 < `f_notHZ` < 1\n",
    "\n",
    "After deciding on the bounds, we can initialize the Hypothesis object."
   ],
   "metadata": {}
  },
  {
   "cell_type": "code",
   "execution_count": 7,
   "source": [
    "bounds = np.array([[0.1, 2], [0.01, 10], [0.001, 1.0], [0.001, 1.0]])\n",
    "h_HZ = Hypothesis(f, bounds, params=params, features=features, labels=labels, log=(True, True, True, True))"
   ],
   "outputs": [],
   "metadata": {}
  },
  {
   "cell_type": "markdown",
   "source": [
    "We also need to define the null hypothesis against which `h_HZ` is to be compared. The null hypothesis says that the fraction of planets with water vapor is independent of their orbits - this is a one parameter hypothesis where `f_H2O`, the fraction of planets with water vapor, is the only parameter. Again, the prior distribution on `f_H2O` should be broad (0 to 1) and log-uniform in shape. We can define this null hypothesis and attach it to `h_HZ` as follows:\n"
   ],
   "metadata": {}
  },
  {
   "cell_type": "code",
   "execution_count": 8,
   "source": [
    "def f_null(theta, X):\n",
    "    shape = (np.shape(X)[0], 1)\n",
    "    return np.full(shape, theta)\n",
    "bounds_null = np.array([[0.001, 1.0]])\n",
    "h_HZ.h_null = Hypothesis(f_null, bounds_null, params=('f_H2O',), features=features, labels=labels, log=(True,))"
   ],
   "outputs": [],
   "metadata": {}
  },
  {
   "cell_type": "markdown",
   "source": [
    "\n",
    "Now that the Hypothesis has been formed, we can formally test it using our simulated dataset. The `fit()` method will automatically extract the appropriate variables from the data and estimate the Bayesian evidence for both the hypothesis and null hypothesis using nested sampling. It will return the difference between the two i.e. the evidence in favor of the habitable zone hypothesis."
   ],
   "metadata": {}
  },
  {
   "cell_type": "code",
   "execution_count": 9,
   "source": [
    "results = h_HZ.fit(data)\n",
    "print(\"The evidence in favor of the hypothesis is: dlnZ = {:.1f} (corresponds to p = {:.1E})\".format(results['dlnZ'], np.exp(-results['dlnZ'])))"
   ],
   "outputs": [
    {
     "output_type": "stream",
     "name": "stdout",
     "text": [
      "The evidence in favor of the hypothesis is: dlnZ = 13.1 (corresponds to p = 2.1E-06)\n"
     ]
    }
   ],
   "metadata": {}
  },
  {
   "cell_type": "markdown",
   "source": [
    "Generally speaking, a result where dlnZ > 3 is considered significant, so this was a succcessful test of the hypothesis.\n",
    "\n",
    "**Note for iPython/Jupyter users:** We will need to reload the `generator` and `h_HZ` objects here to replace the ones you have defined above. These will produce the same results, but the next code block uses the `multiprocessing` module which is incompatible with functions defined in iPython."
   ],
   "metadata": {}
  },
  {
   "cell_type": "code",
   "execution_count": 10,
   "source": [
    "# Reload `generator` and `h_HZ`\n",
    "generator = Generator('imaging')\n",
    "from bioverse.hypothesis import h_HZ"
   ],
   "outputs": [],
   "metadata": {}
  },
  {
   "cell_type": "markdown",
   "source": [
    "\n",
    "## Computing statistical power\n",
    "\n",
    "We have not yet tackled the most uncertain part of this analysis: namely, just how common are habitable worlds? The fraction of Earth-sized planets in the habitable zone with atmospheric water vapor could far smaller than the assumed 75%, in which case it might be impossible to test the habitable zone hypothesis. To quantify the importance of this assumption, we will need to repeat the previous analysis several times with different values of `f_water_habitable`.\n",
    "\n",
    "The `analysis` module enables this through its `test_hypothesis_grid()` function, which loops the planet simulation, survey simulation, and hypothesis test routines over a grid of input values. Let's use it to iterate over values of `f_water_habitable` ranging from 1% to 100%. For each value, we will repeat the analysis 20 times to average over Poisson noise.\n",
    "\n",
    "This may take a few minutes. To speed things up, we will run 8 processes in parallel (you may need to change this number for an older CPU)."
   ],
   "metadata": {}
  },
  {
   "cell_type": "code",
   "execution_count": 11,
   "source": [
    "f_water_habitable = np.logspace(-2, 0, 10)\n",
    "results = analysis.test_hypothesis_grid(h_HZ, generator, survey, f_water_habitable=f_water_habitable, t_total=10*365.25, processes=8, N=20)"
   ],
   "outputs": [
    {
     "output_type": "stream",
     "name": "stderr",
     "text": [
      "100%|██████████| 200/200 [01:53<00:00,  1.76it/s]\n"
     ]
    }
   ],
   "metadata": {}
  },
  {
   "cell_type": "markdown",
   "source": [
    "Now, let's plot the average Bayesian evidence for the hypothesis as a function of `f_water_habitable`."
   ],
   "metadata": {}
  },
  {
   "cell_type": "code",
   "execution_count": 12,
   "source": [
    "plt.plot(f_water_habitable, results['dlnZ'].mean(axis=-1), lw=5)\n",
    "plt.xlabel('Fraction of EECs with H2O', fontsize=20)\n",
    "plt.ylabel('$\\Delta$lnZ', fontsize=20)\n",
    "plt.axhline(3, lw=5, c='black', linestyle='dashed')\n",
    "plt.xscale('log')"
   ],
   "outputs": [
    {
     "output_type": "display_data",
     "data": {
      "image/png": "[encoded data removed]",
      "text/plain": [
       "<Figure size 432x288 with 1 Axes>"
      ]
     },
     "metadata": {
      "needs_background": "light"
     }
    }
   ],
   "metadata": {}
  },
  {
   "cell_type": "markdown",
   "source": [
    "A more useful metric than the average Bayesian evidence is the survey's \"statistical power\", which is the likelihood that the survey could successfully test the hypothesis under a certain set of assumptions. Run this cell to plot the statistical power versus the fraction of EECs with water vapor."
   ],
   "metadata": {}
  },
  {
   "cell_type": "code",
   "execution_count": 13,
   "source": [
    "power = analysis.compute_statistical_power(results, method='dlnZ', threshold=3)\n",
    "plt.plot(f_water_habitable, power, lw=5)\n",
    "plt.xlabel('Fraction of EECs with H2O', fontsize=20)\n",
    "plt.ylabel('Statistical power', fontsize=20)\n",
    "plt.axhline(0.8, lw=5, c='black', linestyle='dashed')\n",
    "plt.xscale('log')"
   ],
   "outputs": [
    {
     "output_type": "display_data",
     "data": {
      "image/png": "[encoded data removed]",
      "text/plain": [
       "<Figure size 432x288 with 1 Axes>"
      ]
     },
     "metadata": {
      "needs_background": "light"
     }
    }
   ],
   "metadata": {}
  },
  {
   "cell_type": "markdown",
   "source": [
    "We can see that a LUVOIR-like survey will be able to determine the existence of the habitable zone - but only if habitable planets are relatively common."
   ],
   "metadata": {}
  }
 ],
 "metadata": {
  "interpreter": {
   "hash": "9805f964417e1fb5bf47cad3ce563e418ccf3a95b9919f79d65dd2cee73654e5"
  },
  "kernelspec": {
   "name": "python3",
   "display_name": "Python 3.8.8 64-bit ('base': conda)"
  },
  "language_info": {
   "codemirror_mode": {
    "name": "ipython",
    "version": 3
   },
   "file_extension": ".py",
   "mimetype": "text/x-python",
   "name": "python",
   "nbconvert_exporter": "python",
   "pygments_lexer": "ipython3",
   "version": "3.8.8"
  }
 },
 "nbformat": 4,
 "nbformat_minor": 2
}